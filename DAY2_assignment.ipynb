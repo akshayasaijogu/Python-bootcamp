{
  "nbformat": 4,
  "nbformat_minor": 0,
  "metadata": {
    "colab": {
      "provenance": []
    },
    "kernelspec": {
      "name": "python3",
      "display_name": "Python 3"
    },
    "language_info": {
      "name": "python"
    }
  },
  "cells": [
    {
      "cell_type": "code",
      "execution_count": 1,
      "metadata": {
        "colab": {
          "base_uri": "https://localhost:8080/"
        },
        "id": "dT7kAOV73p_9",
        "outputId": "07f13ab6-cfda-4e7a-f6ef-40aa37532c60"
      },
      "outputs": [
        {
          "output_type": "stream",
          "name": "stdout",
          "text": [
            "Guess the word by entering single letter: \n",
            "\n",
            "Word: ___\n",
            "Attempts left: 6\n",
            "Enter a letter: a\n",
            "Incorrect\n",
            "\n",
            "Word: ___\n",
            "Attempts left: 5\n",
            "Enter a letter: c\n",
            "Incorrect\n",
            "\n",
            "Word: ___\n",
            "Attempts left: 4\n",
            "Enter a letter: o\n",
            "Incorrect\n",
            "\n",
            "Word: ___\n",
            "Attempts left: 3\n",
            "Enter a letter: a\n",
            "Incorrect\n",
            "\n",
            "Word: ___\n",
            "Attempts left: 2\n",
            "Enter a letter: n\n",
            "Correct\n",
            "\n",
            "Word: __n\n",
            "Attempts left: 2\n",
            "Enter a letter: a\n",
            "Incorrect\n",
            "\n",
            "Word: __n\n",
            "Attempts left: 1\n",
            "Enter a letter: e\n",
            "Incorrect\n",
            "There are no attempts left. The word was: gun\n"
          ]
        }
      ],
      "source": [
        "#guess the word game\n",
        "import random\n",
        "words=['app','ball','cat','dog','egg','fish','gun','hat','ice','jug']\n",
        "system_input=random.choice(words)\n",
        "\n",
        "letters = []\n",
        "attempts = 6\n",
        "\n",
        "print(\"Guess the word by entering single letter: \")\n",
        "\n",
        "while attempts > 0:\n",
        "    result = ''\n",
        "    for letter in system_input:\n",
        "        if letter in letters:\n",
        "            result = result+letter\n",
        "        else:\n",
        "            result = result + '_'\n",
        "    print(\"\\nWord:\", result)\n",
        "    print(\"Attempts left:\", attempts)\n",
        "\n",
        "\n",
        "    user_input = input(\"Enter a letter: \")\n",
        "\n",
        "    if user_input in system_input:\n",
        "        print(\"Correct\")\n",
        "        letters.append(user_input)\n",
        "        if set(letters) == set(system_input):\n",
        "            print(\"You guessed the word:\", system_input)\n",
        "            break\n",
        "    else:\n",
        "        print(\"Incorrect\")\n",
        "        attempts -= 1\n",
        "\n",
        "if attempts == 0:\n",
        "    print(\"There are no attempts left. The word was:\", system_input)"
      ]
    },
    {
      "cell_type": "code",
      "source": [
        "#temperature converter\n",
        "print(\"Temperature Converter\")\n",
        "print(\"1. Celsius to Fahrenheit\")\n",
        "print(\"2. Fahrenheit to Celsius\")\n",
        "choice = int(input(\"Enter your choice 1 or 2: \"))\n",
        "\n",
        "if choice == 1:\n",
        "    celsius = float(input(\"Enter temperature in Celsius: \"))\n",
        "    fahrenheit = (celsius * 9/5) + 32\n",
        "    print(\"Temperature in Fahrenheit:\", fahrenheit)\n",
        "elif choice == 2:\n",
        "    fahrenheit = float(input(\"Enter temperature in Fahrenheit: \"))\n",
        "    celsius = (fahrenheit - 32) * 5/9\n",
        "    print(\"Temperature in Celsius:\", celsius)\n",
        "else:\n",
        "    print(\"Invalid choice\")"
      ],
      "metadata": {
        "colab": {
          "base_uri": "https://localhost:8080/"
        },
        "id": "NEPd00ZS4kEm",
        "outputId": "59fb7590-20da-4e60-9f88-766859d076b3"
      },
      "execution_count": 2,
      "outputs": [
        {
          "output_type": "stream",
          "name": "stdout",
          "text": [
            "Temperature Converter\n",
            "1. Celsius to Fahrenheit\n",
            "2. Fahrenheit to Celsius\n",
            "Enter your choice 1 or 2: 1\n",
            "Enter temperature in Celsius: -4.6755657\n",
            "Temperature in Fahrenheit: 23.58398174\n"
          ]
        }
      ]
    },
    {
      "cell_type": "code",
      "source": [
        "#sample quiz questions\n",
        "questions = [\n",
        "    {\n",
        "        \"question\": \"Who developed python programming language?\",\n",
        "        \"options\": [\"A. Wick van Rossum\", \"B. Rasmus Lerdorf\", \"C. Guido van Rossum\", \"D. Niene Stom\"],\n",
        "        \"answer\": \"c\"\n",
        "    },\n",
        "    {\n",
        "        \"question\": \" Which type of Programming does Python support?\",\n",
        "        \"options\": [\"A. object-oriented programming\", \"B. structured programming\", \"C. functional programming\", \"D. All\"],\n",
        "        \"answer\": \"d\"\n",
        "    },\n",
        "    {\n",
        "        \"question\": \"Which of the following is the correct extension of the Python file?\",\n",
        "        \"options\": [\"A. .pl\", \"B. .py\", \"C. .p\", \"D. .python\"],\n",
        "        \"answer\": \"b\"\n",
        "    }\n",
        "]\n",
        "\n",
        "score = 0\n",
        "\n",
        "print(\"Quiz!\")\n",
        "print(\"Select either a,b,c or d\")\n",
        "\n",
        "for question in questions:\n",
        "    print(question[\"question\"])\n",
        "    for option in question[\"options\"]:\n",
        "        print(option)\n",
        "\n",
        "    user_answer = input(\"Your answer: \")\n",
        "    if user_answer == question[\"answer\"]:\n",
        "        print(\"Correct!\")\n",
        "        score += 1\n",
        "    else:\n",
        "        print(\"Incorrect! The correct answer is:\", question[\"answer\"])\n",
        "    print()\n",
        "\n",
        "print(\"Quiz complete!\")\n",
        "print(\"Your score:\", score, \"/\", len(questions))\n"
      ],
      "metadata": {
        "colab": {
          "base_uri": "https://localhost:8080/"
        },
        "id": "EG1-7mqX4y9R",
        "outputId": "d567d25c-0ed9-4edf-d67b-5952b5f7a273"
      },
      "execution_count": 3,
      "outputs": [
        {
          "output_type": "stream",
          "name": "stdout",
          "text": [
            "Quiz!\n",
            "Select either a,b,c or d\n",
            "Who developed python programming language?\n",
            "A. Wick van Rossum\n",
            "B. Rasmus Lerdorf\n",
            "C. Guido van Rossum\n",
            "D. Niene Stom\n",
            "Your answer: c\n",
            "Correct!\n",
            "\n",
            " Which type of Programming does Python support?\n",
            "A. object-oriented programming\n",
            "B. structured programming\n",
            "C. functional programming\n",
            "D. All\n",
            "Your answer: d\n",
            "Correct!\n",
            "\n",
            "Which of the following is the correct extension of the Python file?\n",
            "A. .pl\n",
            "B. .py\n",
            "C. .p\n",
            "D. .python\n",
            "Your answer: b\n",
            "Correct!\n",
            "\n",
            "Quiz complete!\n",
            "Your score: 3 / 3\n"
          ]
        }
      ]
    }
  ]
}
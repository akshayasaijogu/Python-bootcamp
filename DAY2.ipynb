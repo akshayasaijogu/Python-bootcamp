{
  "nbformat": 4,
  "nbformat_minor": 0,
  "metadata": {
    "colab": {
      "provenance": []
    },
    "kernelspec": {
      "name": "python3",
      "display_name": "Python 3"
    },
    "language_info": {
      "name": "python"
    }
  },
  "cells": [
    {
      "cell_type": "code",
      "execution_count": 1,
      "metadata": {
        "id": "JufXrzM1dwEq"
      },
      "outputs": [],
      "source": [
        "#set --- to avoid duplicates and it is unordered\n",
        "s1= {1,2,3}"
      ]
    },
    {
      "cell_type": "code",
      "source": [
        "print(s1)"
      ],
      "metadata": {
        "colab": {
          "base_uri": "https://localhost:8080/"
        },
        "id": "_HHQGeSJe-yG",
        "outputId": "5c9e2e0e-a2a3-4d7b-cfcb-e3cd2492d57b"
      },
      "execution_count": 2,
      "outputs": [
        {
          "output_type": "stream",
          "name": "stdout",
          "text": [
            "{1, 2, 3}\n"
          ]
        }
      ]
    },
    {
      "cell_type": "code",
      "source": [
        "s2={1,2,3,4}\n",
        "print(s2)"
      ],
      "metadata": {
        "colab": {
          "base_uri": "https://localhost:8080/"
        },
        "id": "0n1InipufBd4",
        "outputId": "34568704-dc3f-436c-bd2b-7b030b88db61"
      },
      "execution_count": 3,
      "outputs": [
        {
          "output_type": "stream",
          "name": "stdout",
          "text": [
            "{1, 2, 3, 4}\n"
          ]
        }
      ]
    },
    {
      "cell_type": "code",
      "source": [
        "#indexing is not possible as it is unorder\n",
        "print(s2[2:3])"
      ],
      "metadata": {
        "colab": {
          "base_uri": "https://localhost:8080/",
          "height": 141
        },
        "id": "qxN5RoQzfIQI",
        "outputId": "18c0cabf-8ae3-47de-adcf-ca6bb7f4e34b"
      },
      "execution_count": 4,
      "outputs": [
        {
          "output_type": "error",
          "ename": "TypeError",
          "evalue": "'set' object is not subscriptable",
          "traceback": [
            "\u001b[0;31m---------------------------------------------------------------------------\u001b[0m",
            "\u001b[0;31mTypeError\u001b[0m                                 Traceback (most recent call last)",
            "\u001b[0;32m<ipython-input-4-ac9fb19cc5db>\u001b[0m in \u001b[0;36m<cell line: 1>\u001b[0;34m()\u001b[0m\n\u001b[0;32m----> 1\u001b[0;31m \u001b[0mprint\u001b[0m\u001b[0;34m(\u001b[0m\u001b[0ms2\u001b[0m\u001b[0;34m[\u001b[0m\u001b[0;36m2\u001b[0m\u001b[0;34m:\u001b[0m\u001b[0;36m3\u001b[0m\u001b[0;34m]\u001b[0m\u001b[0;34m)\u001b[0m\u001b[0;34m\u001b[0m\u001b[0;34m\u001b[0m\u001b[0m\n\u001b[0m",
            "\u001b[0;31mTypeError\u001b[0m: 'set' object is not subscriptable"
          ]
        }
      ]
    },
    {
      "cell_type": "code",
      "source": [
        "#in set we use add not append\n",
        "s2.add(24)"
      ],
      "metadata": {
        "id": "YGkqF1BifP80"
      },
      "execution_count": 5,
      "outputs": []
    },
    {
      "cell_type": "code",
      "source": [
        "print(s2)"
      ],
      "metadata": {
        "colab": {
          "base_uri": "https://localhost:8080/"
        },
        "id": "z4VgPsBDfk4L",
        "outputId": "b02313dd-ad2e-431f-c60f-e317651ebd41"
      },
      "execution_count": 6,
      "outputs": [
        {
          "output_type": "stream",
          "name": "stdout",
          "text": [
            "{1, 2, 3, 4, 24}\n"
          ]
        }
      ]
    },
    {
      "cell_type": "code",
      "source": [
        "s2.remove(3)\n",
        "print(s2)"
      ],
      "metadata": {
        "colab": {
          "base_uri": "https://localhost:8080/"
        },
        "id": "RWTp_OnGf3ET",
        "outputId": "1d7e01cf-0946-44ce-9024-6ca96b71c79b"
      },
      "execution_count": 7,
      "outputs": [
        {
          "output_type": "stream",
          "name": "stdout",
          "text": [
            "{1, 2, 4, 24}\n"
          ]
        }
      ]
    },
    {
      "cell_type": "code",
      "source": [
        "#remove shows error if the element we want to remove is not present\n",
        "s2.remove(5)\n",
        "print(s2)"
      ],
      "metadata": {
        "colab": {
          "base_uri": "https://localhost:8080/",
          "height": 176
        },
        "id": "Q3eXEF0cf82M",
        "outputId": "d4c1b9df-3c0b-4df7-be52-240c3c02a840"
      },
      "execution_count": 8,
      "outputs": [
        {
          "output_type": "error",
          "ename": "KeyError",
          "evalue": "5",
          "traceback": [
            "\u001b[0;31m---------------------------------------------------------------------------\u001b[0m",
            "\u001b[0;31mKeyError\u001b[0m                                  Traceback (most recent call last)",
            "\u001b[0;32m<ipython-input-8-322e91335114>\u001b[0m in \u001b[0;36m<cell line: 2>\u001b[0;34m()\u001b[0m\n\u001b[1;32m      1\u001b[0m \u001b[0;31m#remove shows error if the element we want to remove is not present\u001b[0m\u001b[0;34m\u001b[0m\u001b[0;34m\u001b[0m\u001b[0m\n\u001b[0;32m----> 2\u001b[0;31m \u001b[0ms2\u001b[0m\u001b[0;34m.\u001b[0m\u001b[0mremove\u001b[0m\u001b[0;34m(\u001b[0m\u001b[0;36m5\u001b[0m\u001b[0;34m)\u001b[0m\u001b[0;34m\u001b[0m\u001b[0;34m\u001b[0m\u001b[0m\n\u001b[0m\u001b[1;32m      3\u001b[0m \u001b[0mprint\u001b[0m\u001b[0;34m(\u001b[0m\u001b[0ms2\u001b[0m\u001b[0;34m)\u001b[0m\u001b[0;34m\u001b[0m\u001b[0;34m\u001b[0m\u001b[0m\n",
            "\u001b[0;31mKeyError\u001b[0m: 5"
          ]
        }
      ]
    },
    {
      "cell_type": "code",
      "source": [
        "#doesnt show any error\n",
        "s2.discard(5)\n",
        "print(s2)"
      ],
      "metadata": {
        "colab": {
          "base_uri": "https://localhost:8080/"
        },
        "id": "w2_RHbIpgRtI",
        "outputId": "2fe5f871-6d52-4293-a7ca-f9861ec4fb33"
      },
      "execution_count": 10,
      "outputs": [
        {
          "output_type": "stream",
          "name": "stdout",
          "text": [
            "{1, 2, 4, 24}\n"
          ]
        }
      ]
    },
    {
      "cell_type": "code",
      "source": [
        "s2.pop()\n",
        "print(s2)\n",
        "set()"
      ],
      "metadata": {
        "colab": {
          "base_uri": "https://localhost:8080/"
        },
        "id": "_57_hgFrgibf",
        "outputId": "95483c33-ff5b-4d67-e2f6-38f1d2a6bb33"
      },
      "execution_count": 12,
      "outputs": [
        {
          "output_type": "stream",
          "name": "stdout",
          "text": [
            "{4, 24}\n"
          ]
        },
        {
          "output_type": "execute_result",
          "data": {
            "text/plain": [
              "set()"
            ]
          },
          "metadata": {},
          "execution_count": 12
        }
      ]
    },
    {
      "cell_type": "code",
      "source": [
        "s3 = {1,2,3,4,5}\n",
        "s3.pop()"
      ],
      "metadata": {
        "colab": {
          "base_uri": "https://localhost:8080/"
        },
        "id": "dFHnPHdNgu1s",
        "outputId": "95b97e6b-e897-41c8-fb5e-8646402bef84"
      },
      "execution_count": 13,
      "outputs": [
        {
          "output_type": "execute_result",
          "data": {
            "text/plain": [
              "1"
            ]
          },
          "metadata": {},
          "execution_count": 13
        }
      ]
    },
    {
      "cell_type": "code",
      "source": [
        "#randomly picks pop removes any random from set and returns the removed element\n",
        "s3.pop()"
      ],
      "metadata": {
        "colab": {
          "base_uri": "https://localhost:8080/"
        },
        "id": "sUj16e1ug7Ya",
        "outputId": "a1d60908-be43-41e7-9d86-f01d50e08caa"
      },
      "execution_count": 14,
      "outputs": [
        {
          "output_type": "execute_result",
          "data": {
            "text/plain": [
              "2"
            ]
          },
          "metadata": {},
          "execution_count": 14
        }
      ]
    },
    {
      "cell_type": "code",
      "source": [
        "#dictionariess\n",
        "dict1 = {'name': 'john', 'age': 24}"
      ],
      "metadata": {
        "id": "nqHzeNMPhK2O"
      },
      "execution_count": 15,
      "outputs": []
    },
    {
      "cell_type": "code",
      "source": [
        "print(dict1['age'])"
      ],
      "metadata": {
        "colab": {
          "base_uri": "https://localhost:8080/"
        },
        "id": "QFSQFo1bhYhs",
        "outputId": "a8d35a43-54ed-4c86-84bd-994ad19c0989"
      },
      "execution_count": 17,
      "outputs": [
        {
          "output_type": "stream",
          "name": "stdout",
          "text": [
            "24\n"
          ]
        }
      ]
    },
    {
      "cell_type": "code",
      "source": [
        "#can be modified\n",
        "dict1['name']= 'christiano'"
      ],
      "metadata": {
        "id": "fhjL0X15hfIe"
      },
      "execution_count": 18,
      "outputs": []
    },
    {
      "cell_type": "code",
      "source": [
        "print(dict1['name'])"
      ],
      "metadata": {
        "colab": {
          "base_uri": "https://localhost:8080/"
        },
        "id": "4YSxK_5ehsAo",
        "outputId": "e1048450-c309-4c82-ab19-0400e33f4995"
      },
      "execution_count": 19,
      "outputs": [
        {
          "output_type": "stream",
          "name": "stdout",
          "text": [
            "christiano\n"
          ]
        }
      ]
    },
    {
      "cell_type": "code",
      "source": [
        "#relatinal(comparision) operators\n",
        "a=1\n",
        "b=1\n",
        "print(a==b)"
      ],
      "metadata": {
        "colab": {
          "base_uri": "https://localhost:8080/"
        },
        "id": "nj3JkjCvhxT7",
        "outputId": "de7e03e7-84bf-4cba-9926-a311f19448e9"
      },
      "execution_count": 20,
      "outputs": [
        {
          "output_type": "stream",
          "name": "stdout",
          "text": [
            "True\n"
          ]
        }
      ]
    },
    {
      "cell_type": "code",
      "source": [
        "#compares element\n",
        "l1=[1,2,3,4]\n",
        "l2=[4,2,5,6]\n",
        "print(l1==l2)"
      ],
      "metadata": {
        "colab": {
          "base_uri": "https://localhost:8080/"
        },
        "id": "yOZveaFqh7yk",
        "outputId": "066bd109-bd50-41ba-c420-250bf989344b"
      },
      "execution_count": 21,
      "outputs": [
        {
          "output_type": "stream",
          "name": "stdout",
          "text": [
            "False\n"
          ]
        }
      ]
    },
    {
      "cell_type": "code",
      "source": [
        "#compares memory location\n",
        "l1=[1,2,3,4]\n",
        "l2=[1,2,3,4]\n",
        "print(l1 is l2)"
      ],
      "metadata": {
        "colab": {
          "base_uri": "https://localhost:8080/"
        },
        "id": "KTWo3m1EiI7_",
        "outputId": "b0edc1be-1fb7-43fc-b1da-9a3f9eb9e04d"
      },
      "execution_count": 22,
      "outputs": [
        {
          "output_type": "stream",
          "name": "stdout",
          "text": [
            "False\n"
          ]
        }
      ]
    },
    {
      "cell_type": "code",
      "source": [
        "#checks whether the element is present or not\n",
        "l3=[1,2,3,4,5]\n",
        "print(4 in l3)"
      ],
      "metadata": {
        "colab": {
          "base_uri": "https://localhost:8080/"
        },
        "id": "kAwCyInSif9X",
        "outputId": "5f24dfe0-311c-4a3d-a46f-4c51c9d960ad"
      },
      "execution_count": 23,
      "outputs": [
        {
          "output_type": "stream",
          "name": "stdout",
          "text": [
            "True\n"
          ]
        }
      ]
    },
    {
      "cell_type": "code",
      "source": [
        "l3=[1,2,3,4,5]\n",
        "print(14 in l3)"
      ],
      "metadata": {
        "colab": {
          "base_uri": "https://localhost:8080/"
        },
        "id": "Z1y61yp5i33q",
        "outputId": "0aee4929-a503-4184-a63d-002bd62cd317"
      },
      "execution_count": 24,
      "outputs": [
        {
          "output_type": "stream",
          "name": "stdout",
          "text": [
            "False\n"
          ]
        }
      ]
    },
    {
      "cell_type": "code",
      "source": [
        "#conditional loops\n",
        "var1=int(input(\"Enter a number: \"))\n",
        "if var1>0:\n",
        "  print(\"Positive\")\n",
        "elif var1<0:\n",
        "  print(\"Negative\")\n",
        "else:\n",
        "  print(\"Zero\")"
      ],
      "metadata": {
        "colab": {
          "base_uri": "https://localhost:8080/"
        },
        "id": "uTzT57AUi6OF",
        "outputId": "c58de1f1-db19-4681-a9a2-e20124fae2d7"
      },
      "execution_count": 28,
      "outputs": [
        {
          "output_type": "stream",
          "name": "stdout",
          "text": [
            "Enter a number: -12\n",
            "Negative\n"
          ]
        }
      ]
    },
    {
      "cell_type": "code",
      "source": [
        "var1=int(input(\"Enter a number: \"))\n",
        "if var1>50:\n",
        "  print(\"greater than 50\")\n",
        "elif var1<50:\n",
        "  print(\"less than 50\")\n",
        "else:\n",
        "  print(\"Zero\")"
      ],
      "metadata": {
        "colab": {
          "base_uri": "https://localhost:8080/"
        },
        "id": "pzx9OA_Uj6Zu",
        "outputId": "f7817ec2-e1b8-4469-fdbf-abf8648eb89e"
      },
      "execution_count": 29,
      "outputs": [
        {
          "output_type": "stream",
          "name": "stdout",
          "text": [
            "Enter a number: 56\n",
            "greater than 50\n"
          ]
        }
      ]
    },
    {
      "cell_type": "code",
      "source": [
        "var2=int(input(\"Enter a number: \"))\n",
        "if var2>0:\n",
        "  print(\"Positive\")\n",
        "  if var2%2==0:\n",
        "    print(\"Even\")\n",
        "    if var2%5==0:\n",
        "      print(\"Multiple of 5\")\n",
        "  else:\n",
        "    print(\"odd\")\n",
        "else:\n",
        "  print(\"negative\")"
      ],
      "metadata": {
        "colab": {
          "base_uri": "https://localhost:8080/"
        },
        "id": "7cFb_O6wkSy5",
        "outputId": "eeb70046-8fd3-43b7-b990-7e4a289f5e39"
      },
      "execution_count": 37,
      "outputs": [
        {
          "output_type": "stream",
          "name": "stdout",
          "text": [
            "Enter a number: 14\n",
            "Positive\n",
            "Even\n"
          ]
        }
      ]
    },
    {
      "cell_type": "code",
      "source": [
        "#rockpaperscissor\n",
        "import random\n",
        "user_input = input(\"Choose one of rock,paper, scissor\")\n",
        "options = ['rock','paper','scissor']\n",
        "system_input = random.choice(options)\n",
        "if user_input == system_input:\n",
        "  print(\"Its a draw\")\n",
        "else:\n",
        "    if user_input == 'rock':\n",
        "      if system_input == 'scissor':\n",
        "        print(\"You Won\")\n",
        "      else:\n",
        "          print(\"You Loss\")\n",
        "    if user_input == 'paper':\n",
        "      if system_input == 'rock':\n",
        "        print(\"You Won\")\n",
        "      else:\n",
        "          print(\"You Loss\")\n",
        "    if user_input == 'scissor':\n",
        "      if system_input == 'paper':\n",
        "        print(\"You Won\")\n",
        "      else:\n",
        "          print(\"You Loss\")\n",
        "\n",
        "print(user_input)\n",
        "print(system_input)"
      ],
      "metadata": {
        "colab": {
          "base_uri": "https://localhost:8080/"
        },
        "id": "O0aTqgj4mZtR",
        "outputId": "fa91bcc5-b3cb-4de8-ef44-cfcd54dceada"
      },
      "execution_count": 46,
      "outputs": [
        {
          "output_type": "stream",
          "name": "stdout",
          "text": [
            "Choose one of rock,paper, scissorrock\n",
            "Its a draw\n",
            "rock\n",
            "rock\n"
          ]
        }
      ]
    },
    {
      "cell_type": "code",
      "source": [
        "#loops (start, end)\n",
        "for i in range(1,20):\n",
        "  print(i)"
      ],
      "metadata": {
        "colab": {
          "base_uri": "https://localhost:8080/"
        },
        "id": "3s26m0wbv2do",
        "outputId": "b523c388-87ca-4922-86ee-8fa6537c5222"
      },
      "execution_count": 47,
      "outputs": [
        {
          "output_type": "stream",
          "name": "stdout",
          "text": [
            "1\n",
            "2\n",
            "3\n",
            "4\n",
            "5\n",
            "6\n",
            "7\n",
            "8\n",
            "9\n",
            "10\n",
            "11\n",
            "12\n",
            "13\n",
            "14\n",
            "15\n",
            "16\n",
            "17\n",
            "18\n",
            "19\n"
          ]
        }
      ]
    },
    {
      "cell_type": "code",
      "source": [
        "#table\n",
        "var2 = int(input(\"Enter a number\"))\n",
        "for i in range(1,11):\n",
        "  print(var2,\"*\",i,\"=\",var2*i)"
      ],
      "metadata": {
        "colab": {
          "base_uri": "https://localhost:8080/"
        },
        "id": "7riVQ9rYwB5p",
        "outputId": "3520fd9e-2706-494d-9a9e-7fb3fd541fdd"
      },
      "execution_count": 48,
      "outputs": [
        {
          "output_type": "stream",
          "name": "stdout",
          "text": [
            "Enter a number5\n",
            "5 * 1 = 5\n",
            "5 * 2 = 10\n",
            "5 * 3 = 15\n",
            "5 * 4 = 20\n",
            "5 * 5 = 25\n",
            "5 * 6 = 30\n",
            "5 * 7 = 35\n",
            "5 * 8 = 40\n",
            "5 * 9 = 45\n",
            "5 * 10 = 50\n"
          ]
        }
      ]
    },
    {
      "cell_type": "code",
      "source": [
        "#table\n",
        "var2 = int(input(\"Enter a number\"))\n",
        "for i in range(1,11):\n",
        "  print(var2,\"*\",i,\"=\",var2*i,\",\",end= ' ')"
      ],
      "metadata": {
        "colab": {
          "base_uri": "https://localhost:8080/"
        },
        "id": "4dq-L-lPwvK8",
        "outputId": "a13633a6-3d26-4a0d-fa0a-ce02ecd1a1db"
      },
      "execution_count": 49,
      "outputs": [
        {
          "output_type": "stream",
          "name": "stdout",
          "text": [
            "Enter a number5\n",
            "5 * 1 = 5 , 5 * 2 = 10 , 5 * 3 = 15 , 5 * 4 = 20 , 5 * 5 = 25 , 5 * 6 = 30 , 5 * 7 = 35 , 5 * 8 = 40 , 5 * 9 = 45 , 5 * 10 = 50 , "
          ]
        }
      ]
    },
    {
      "cell_type": "code",
      "source": [
        "list1=[1,2,3,4]\n",
        "for i in list1:\n",
        "  print(i)"
      ],
      "metadata": {
        "colab": {
          "base_uri": "https://localhost:8080/"
        },
        "id": "UH4d23ZGxml7",
        "outputId": "e5164807-d4c0-4384-8e88-08a59b76b6e0"
      },
      "execution_count": 50,
      "outputs": [
        {
          "output_type": "stream",
          "name": "stdout",
          "text": [
            "1\n",
            "2\n",
            "3\n",
            "4\n"
          ]
        }
      ]
    },
    {
      "cell_type": "code",
      "source": [
        "#travsersing\n",
        "dict1 = {\"SRH\":99, \"RCB\":16.4, \"MI\":55}\n",
        "for i in dict1:\n",
        "  print(i)"
      ],
      "metadata": {
        "colab": {
          "base_uri": "https://localhost:8080/"
        },
        "id": "guuVdNn_xwd0",
        "outputId": "7a727d52-e531-452d-ed56-ed145626259b"
      },
      "execution_count": 51,
      "outputs": [
        {
          "output_type": "stream",
          "name": "stdout",
          "text": [
            "SRH\n",
            "RCB\n",
            "MI\n"
          ]
        }
      ]
    },
    {
      "cell_type": "code",
      "source": [
        "#travsersing\n",
        "dict1 = {\"SRH\":99, \"RCB\":16.4, \"MI\":55}\n",
        "for key,value in dict1.items():\n",
        " if value>=60:\n",
        "  print(key,\"is qualified\")\n",
        " else:\n",
        "  print(key,\"is not qualified\")"
      ],
      "metadata": {
        "colab": {
          "base_uri": "https://localhost:8080/"
        },
        "id": "4k_OqI5HyZqp",
        "outputId": "49cc41d7-f721-429d-8df0-64bb1881d75a"
      },
      "execution_count": 54,
      "outputs": [
        {
          "output_type": "stream",
          "name": "stdout",
          "text": [
            "SRH is qualified\n",
            "RCB is not qualified\n",
            "MI is not qualified\n"
          ]
        }
      ]
    },
    {
      "cell_type": "code",
      "source": [
        "#while loop not mostly used\n",
        "i=1\n",
        "while i<5:\n",
        "  print(i)\n",
        "  i=i+1"
      ],
      "metadata": {
        "colab": {
          "base_uri": "https://localhost:8080/"
        },
        "id": "pE1C_an7y7aw",
        "outputId": "9d8ea561-3edf-49e9-c356-d3a241942891"
      },
      "execution_count": 55,
      "outputs": [
        {
          "output_type": "stream",
          "name": "stdout",
          "text": [
            "1\n",
            "2\n",
            "3\n",
            "4\n"
          ]
        }
      ]
    },
    {
      "cell_type": "code",
      "source": [
        "for i in range(0,6):\n",
        "  for j in range(0,i):\n",
        "    print(i,j)\n",
        ""
      ],
      "metadata": {
        "colab": {
          "base_uri": "https://localhost:8080/"
        },
        "id": "suziN6dDzhB_",
        "outputId": "ae904816-b2e5-4f03-9a1f-530abb6c91c9"
      },
      "execution_count": 56,
      "outputs": [
        {
          "output_type": "stream",
          "name": "stdout",
          "text": [
            "1 0\n",
            "2 0\n",
            "2 1\n",
            "3 0\n",
            "3 1\n",
            "3 2\n",
            "4 0\n",
            "4 1\n",
            "4 2\n",
            "4 3\n",
            "5 0\n",
            "5 1\n",
            "5 2\n",
            "5 3\n",
            "5 4\n"
          ]
        }
      ]
    },
    {
      "cell_type": "code",
      "source": [
        "for i in range(0,7):\n",
        "  for j in range(0,i+1):\n",
        "    print(\"*\",end= ' ')\n",
        "  print()"
      ],
      "metadata": {
        "colab": {
          "base_uri": "https://localhost:8080/"
        },
        "id": "LqjiJ1mWzpNu",
        "outputId": "8993d45e-ce4c-4e04-c229-87c0fff65e31"
      },
      "execution_count": 68,
      "outputs": [
        {
          "output_type": "stream",
          "name": "stdout",
          "text": [
            "* \n",
            "* * \n",
            "* * * \n",
            "* * * * \n",
            "* * * * * \n",
            "* * * * * * \n",
            "* * * * * * * \n"
          ]
        }
      ]
    },
    {
      "cell_type": "code",
      "source": [
        "var2  =int(input(\"Enter num: \"))\n",
        "for i in range(0,var2):\n",
        "  for j in range(0,i+1):\n",
        "    print(\"*\",end= ' ')\n",
        "  print()"
      ],
      "metadata": {
        "colab": {
          "base_uri": "https://localhost:8080/"
        },
        "id": "MmmiA39D0EGv",
        "outputId": "72a3fc2f-5e8e-4971-daa0-3307de29545c"
      },
      "execution_count": 69,
      "outputs": [
        {
          "output_type": "stream",
          "name": "stdout",
          "text": [
            "Enter num: 9\n",
            "* \n",
            "* * \n",
            "* * * \n",
            "* * * * \n",
            "* * * * * \n",
            "* * * * * * \n",
            "* * * * * * * \n",
            "* * * * * * * * \n",
            "* * * * * * * * * \n"
          ]
        }
      ]
    },
    {
      "cell_type": "code",
      "source": [
        "#user defined function\n",
        "list1=[1,2,3,4,3,2,3,3]\n",
        "def count():\n",
        "  cnt=0\n",
        "  for i in list1:\n",
        "    if i==2:\n",
        "      cnt=cnt+1\n",
        "      return cnt\n",
        "print(count())\n",
        "list1.append(3)\n",
        "list1.append(2)\n",
        "print(count())"
      ],
      "metadata": {
        "colab": {
          "base_uri": "https://localhost:8080/"
        },
        "id": "iTvrKzBt0BcV",
        "outputId": "d2f33109-ce3c-4c4a-d1eb-33524fe22b8b"
      },
      "execution_count": 71,
      "outputs": [
        {
          "output_type": "stream",
          "name": "stdout",
          "text": [
            "1\n",
            "1\n"
          ]
        }
      ]
    },
    {
      "cell_type": "code",
      "source": [
        "#predefined\n",
        "randlist=[1,2,3,4,5]\n",
        "print(max(randlist))"
      ],
      "metadata": {
        "colab": {
          "base_uri": "https://localhost:8080/"
        },
        "id": "IFqy3z361laz",
        "outputId": "a00e6ba0-cfbe-4831-e184-b9e9d9ad130c"
      },
      "execution_count": 72,
      "outputs": [
        {
          "output_type": "stream",
          "name": "stdout",
          "text": [
            "5\n"
          ]
        }
      ]
    }
  ]
}
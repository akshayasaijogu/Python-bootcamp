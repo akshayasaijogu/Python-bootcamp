{
  "nbformat": 4,
  "nbformat_minor": 0,
  "metadata": {
    "colab": {
      "provenance": []
    },
    "kernelspec": {
      "name": "python3",
      "display_name": "Python 3"
    },
    "language_info": {
      "name": "python"
    }
  },
  "cells": [
    {
      "cell_type": "code",
      "execution_count": 2,
      "metadata": {
        "colab": {
          "base_uri": "https://localhost:8080/",
          "height": 0
        },
        "id": "sOz87RN38PJ9",
        "outputId": "478b2b99-5e12-4363-b8f3-98e411e61b5f"
      },
      "outputs": [
        {
          "output_type": "stream",
          "name": "stdout",
          "text": [
            "[1]\n",
            "[1, 4]\n",
            "[1, 4, 9]\n",
            "[1, 4, 9, 16]\n"
          ]
        }
      ],
      "source": [
        "numbers=[1,2,3,4]\n",
        "squares=[]\n",
        "for i in numbers:\n",
        "  squares.append(i*i)\n",
        "  print(squares)"
      ]
    },
    {
      "cell_type": "code",
      "source": [
        "squares2=list(map(lambda i:i*i,numbers))"
      ],
      "metadata": {
        "id": "c9XvX_0L-1WA"
      },
      "execution_count": 3,
      "outputs": []
    },
    {
      "cell_type": "code",
      "source": [
        "print(squares2)"
      ],
      "metadata": {
        "colab": {
          "base_uri": "https://localhost:8080/",
          "height": 0
        },
        "id": "AF_h0sgQ_H3r",
        "outputId": "028bc554-ff19-4821-9e09-2b1b43667bf2"
      },
      "execution_count": 4,
      "outputs": [
        {
          "output_type": "stream",
          "name": "stdout",
          "text": [
            "[1, 4, 9, 16]\n"
          ]
        }
      ]
    },
    {
      "cell_type": "code",
      "source": [
        "#numpy\n",
        "#ndarray---- n dimensional array\n",
        "import numpy as np\n",
        "list1=[1,2,3,4]\n",
        "np1=np.array([list1])\n",
        "print(np1)\n",
        "print(type(np1))"
      ],
      "metadata": {
        "colab": {
          "base_uri": "https://localhost:8080/",
          "height": 0
        },
        "id": "FRTldYEV_Mcw",
        "outputId": "da9e6627-4014-446a-9bcc-8a6bbcc90b3d"
      },
      "execution_count": 8,
      "outputs": [
        {
          "output_type": "stream",
          "name": "stdout",
          "text": [
            "[[1 2 3 4]]\n",
            "<class 'numpy.ndarray'>\n"
          ]
        }
      ]
    },
    {
      "cell_type": "code",
      "source": [
        "np2=np.array([[1,2,3], [4,5,6], [7,8,9]])\n",
        "print(np2)\n",
        "print(type(np2))"
      ],
      "metadata": {
        "colab": {
          "base_uri": "https://localhost:8080/",
          "height": 0
        },
        "id": "GbHzYgOiCINp",
        "outputId": "e18dca5b-def9-45c5-8c81-4e0490c1ca83"
      },
      "execution_count": 10,
      "outputs": [
        {
          "output_type": "stream",
          "name": "stdout",
          "text": [
            "[[1 2 3]\n",
            " [4 5 6]\n",
            " [7 8 9]]\n",
            "<class 'numpy.ndarray'>\n"
          ]
        }
      ]
    },
    {
      "cell_type": "code",
      "source": [
        "print(np2[2])"
      ],
      "metadata": {
        "colab": {
          "base_uri": "https://localhost:8080/",
          "height": 0
        },
        "id": "am6cEtJYDTpF",
        "outputId": "de934ec4-db29-4d12-8af9-cb0a0def83f1"
      },
      "execution_count": 14,
      "outputs": [
        {
          "output_type": "stream",
          "name": "stdout",
          "text": [
            "[7 8 9]\n"
          ]
        }
      ]
    },
    {
      "cell_type": "code",
      "source": [
        "print(len(np1))\n",
        "print(len(np2))"
      ],
      "metadata": {
        "colab": {
          "base_uri": "https://localhost:8080/",
          "height": 0
        },
        "id": "kMhvR7FMDtkE",
        "outputId": "d29eff5f-33b1-4d4d-8649-a1a9bfb683af"
      },
      "execution_count": 15,
      "outputs": [
        {
          "output_type": "stream",
          "name": "stdout",
          "text": [
            "1\n",
            "3\n"
          ]
        }
      ]
    },
    {
      "cell_type": "code",
      "source": [
        "random1=np.ones((3,3),dtype='int')\n",
        "print(random1)"
      ],
      "metadata": {
        "colab": {
          "base_uri": "https://localhost:8080/",
          "height": 0
        },
        "id": "7hR5DkxIH7wj",
        "outputId": "1d9a9753-0dc5-4703-980c-0aafae83e96f"
      },
      "execution_count": 17,
      "outputs": [
        {
          "output_type": "stream",
          "name": "stdout",
          "text": [
            "[[1 1 1]\n",
            " [1 1 1]\n",
            " [1 1 1]]\n"
          ]
        }
      ]
    },
    {
      "cell_type": "code",
      "source": [
        "random2 = np.full((3,3),\" \")\n",
        "print(random2)"
      ],
      "metadata": {
        "colab": {
          "base_uri": "https://localhost:8080/",
          "height": 0
        },
        "id": "efZSvYOQJ3l0",
        "outputId": "acfbcbf6-a0dc-42f6-811b-0cdb1a135279"
      },
      "execution_count": 18,
      "outputs": [
        {
          "output_type": "stream",
          "name": "stdout",
          "text": [
            "[[' ' ' ' ' ']\n",
            " [' ' ' ' ' ']\n",
            " [' ' ' ' ' ']]\n"
          ]
        }
      ]
    },
    {
      "cell_type": "code",
      "source": [
        "def check_win(board,user_value):\n",
        "  for i in range(0,3):\n",
        "    if(np.all(board[i]==user_value) or np.all(board[:i]==user_value)):\n",
        "      return True\n",
        "    if(np.all(np.diag(board)==user_value)):\n",
        "      return True\n",
        "    return False"
      ],
      "metadata": {
        "id": "2AzMOZW6SJWZ"
      },
      "execution_count": 20,
      "outputs": []
    },
    {
      "cell_type": "code",
      "source": [
        "def game_starts():\n",
        "  board=np.full((3,3),\" \")\n",
        "  player1=input(\"Enter you name player 1\")\n",
        "  player2=input(\"Enter you name player 2\")\n",
        "  check=player1\n",
        "  while True:\n",
        "    if check == player1:\n",
        "      print(player1, \"Its your choice\")\n",
        "    else:\n",
        "      print(player2,\"Its your choice\")\n",
        "    print(board)\n",
        "    row=int(input(\"Enter row\"))\n",
        "    col=int(input(\"Enter col\"))\n",
        "    if board[row][col]!=\" \":\n",
        "      print(\"It is already occupied\")\n",
        "      continue\n",
        "    if check==player1:\n",
        "       board[row][col]='x'\n",
        "       if(check_win(board,'x')):\n",
        "          print(board)\n",
        "          print(player1,\"won\")\n",
        "          break\n",
        "       else:\n",
        "         board[row][col]='o'\n",
        "         if(check_win(board,'o')):\n",
        "          print(board)\n",
        "          print(player1,\"won\")\n",
        "          break\n",
        "       if check==player1:\n",
        "          check=player2\n",
        "       else:\n",
        "          check=player1"
      ],
      "metadata": {
        "id": "4dFEUzgGN1nt"
      },
      "execution_count": 28,
      "outputs": []
    },
    {
      "cell_type": "code",
      "source": [
        "print(\"WELCOME TO TIC TAC TOE\")\n",
        "play1=input(\"Are you ready yes or no\")\n",
        "if(play1==\"yes\"):\n",
        "  game_starts()\n",
        "else:\n",
        "  print(\"You choose not to play\" )"
      ],
      "metadata": {
        "colab": {
          "base_uri": "https://localhost:8080/"
        },
        "id": "TlbgN7J5KFe0",
        "outputId": "693c81b0-e5fe-410f-9473-08bd848afc57"
      },
      "execution_count": 30,
      "outputs": [
        {
          "output_type": "stream",
          "name": "stdout",
          "text": [
            "WELCOME TO TIC TAC TOE\n",
            "Are you ready yes or noyes\n",
            "Enter you name player 1navya\n",
            "Enter you name player 2akshaya\n",
            "navya Its your choice\n",
            "[[' ' ' ' ' ']\n",
            " [' ' ' ' ' ']\n",
            " [' ' ' ' ' ']]\n",
            "Enter row1\n",
            "Enter col1\n",
            "[[' ' ' ' ' ']\n",
            " [' ' 'x' ' ']\n",
            " [' ' ' ' ' ']]\n",
            "navya won\n"
          ]
        }
      ]
    },
    {
      "cell_type": "code",
      "source": [
        "idmat=np.identity(3)\n",
        "print(idmat)"
      ],
      "metadata": {
        "colab": {
          "base_uri": "https://localhost:8080/"
        },
        "id": "VyCoGWeQUDvR",
        "outputId": "5f90ba33-9b9a-47c6-8a7b-b29a8d5c4354"
      },
      "execution_count": 31,
      "outputs": [
        {
          "output_type": "stream",
          "name": "stdout",
          "text": [
            "[[1. 0. 0.]\n",
            " [0. 1. 0.]\n",
            " [0. 0. 1.]]\n"
          ]
        }
      ]
    },
    {
      "cell_type": "code",
      "source": [
        "num1=float(input(\"enter number\"))\n",
        "num2=float(input(\"enter number\"))\n",
        "np.add(num1,num2)"
      ],
      "metadata": {
        "colab": {
          "base_uri": "https://localhost:8080/"
        },
        "id": "vBQSWC3BUgB9",
        "outputId": "f991d21f-63c0-43b9-e6dc-4d02978d12d2"
      },
      "execution_count": 33,
      "outputs": [
        {
          "name": "stdout",
          "output_type": "stream",
          "text": [
            "enter number14\n",
            "enter number11\n"
          ]
        },
        {
          "output_type": "execute_result",
          "data": {
            "text/plain": [
              "25.0"
            ]
          },
          "metadata": {},
          "execution_count": 33
        }
      ]
    },
    {
      "cell_type": "code",
      "source": [
        "np1=np.array([3,4,9,5])\n",
        "np.median(np1)"
      ],
      "metadata": {
        "colab": {
          "base_uri": "https://localhost:8080/"
        },
        "id": "chqP0b4iUo-v",
        "outputId": "91c2fa9d-701d-4b3e-efb8-fc14a796ca68"
      },
      "execution_count": 35,
      "outputs": [
        {
          "output_type": "execute_result",
          "data": {
            "text/plain": [
              "4.5"
            ]
          },
          "metadata": {},
          "execution_count": 35
        }
      ]
    },
    {
      "cell_type": "code",
      "source": [
        "np2=np1\n",
        "np3=np1.copy()"
      ],
      "metadata": {
        "id": "JnxBYnKiVGH7"
      },
      "execution_count": 36,
      "outputs": []
    },
    {
      "cell_type": "code",
      "source": [
        "np3[2]=10\n",
        "print(np3)\n",
        "print(np1)"
      ],
      "metadata": {
        "colab": {
          "base_uri": "https://localhost:8080/"
        },
        "id": "bkzMmmxrVPon",
        "outputId": "69eec4a4-a812-41d3-a910-53217daee1cf"
      },
      "execution_count": 37,
      "outputs": [
        {
          "output_type": "stream",
          "name": "stdout",
          "text": [
            "[ 3  4 10  5]\n",
            "[3 4 9 5]\n"
          ]
        }
      ]
    },
    {
      "cell_type": "code",
      "source": [
        "import time\n",
        "import numpy as np\n",
        "l1=[i for i in range(10**6)]\n",
        "np3=np.array(l1)\n",
        "\n",
        "time_list=time.time()\n",
        "sum_total=sum(l1)\n",
        "endtime_list=time.time()\n",
        "sum2=0\n",
        "time_numpy=time.time()\n",
        "sum2=np.sum(np3)\n",
        "endtime_numpy=time.time()\n",
        "print(\"list\",endtime_list-time_list)\n",
        "print(\"numpy\",endtime_numpy-time_numpy)"
      ],
      "metadata": {
        "colab": {
          "base_uri": "https://localhost:8080/"
        },
        "id": "3MTyth_JUmvX",
        "outputId": "c25bfe50-6535-4192-da78-dd3313cf4936"
      },
      "execution_count": 32,
      "outputs": [
        {
          "output_type": "stream",
          "name": "stdout",
          "text": [
            "list 0.007518291473388672\n",
            "numpy 0.005265235900878906\n"
          ]
        }
      ]
    }
  ]
}